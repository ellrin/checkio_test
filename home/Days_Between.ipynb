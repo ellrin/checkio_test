{
 "cells": [
  {
   "cell_type": "markdown",
   "metadata": {},
   "source": [
    "# Days Between"
   ]
  },
  {
   "cell_type": "code",
   "execution_count": 177,
   "metadata": {},
   "outputs": [
    {
     "name": "stdout",
     "output_type": "stream",
     "text": [
      "Example:\n",
      "3\n"
     ]
    }
   ],
   "source": [
    "import time\n",
    "\n",
    "def days_diff(day1, day2):\n",
    "    \n",
    "    y1, m1, d1 = day1\n",
    "    y2, m2, d2 = day2\n",
    "    \n",
    "    diff = abs(int((time.mktime((y1, m1, d1, 0, 0, 0, 0, 0, 0)) - \n",
    "                    time.mktime((y2, m2, d2, 0, 0, 0, 0, 0, 0)))/(24*3600)))\n",
    "    \n",
    "    return diff\n",
    "\n",
    "\n",
    "if __name__ == '__main__':\n",
    "    print(\"Example:\")\n",
    "    print(days_diff((1982, 4, 19), (1982, 4, 22)))\n",
    "\n",
    "    # These \"asserts\" are used for self-checking and not for an auto-testing\n",
    "    assert days_diff((1982, 4, 19), (1982, 4, 22)) == 3\n",
    "    assert days_diff((2014, 1, 1), (2014, 8, 27)) == 238\n",
    "    assert days_diff((2014, 8, 27), (2014, 1, 1)) == 238"
   ]
  }
 ],
 "metadata": {
  "kernelspec": {
   "display_name": "Python 3",
   "language": "python",
   "name": "python3"
  },
  "language_info": {
   "codemirror_mode": {
    "name": "ipython",
    "version": 3
   },
   "file_extension": ".py",
   "mimetype": "text/x-python",
   "name": "python",
   "nbconvert_exporter": "python",
   "pygments_lexer": "ipython3",
   "version": "3.5.2"
  }
 },
 "nbformat": 4,
 "nbformat_minor": 2
}
