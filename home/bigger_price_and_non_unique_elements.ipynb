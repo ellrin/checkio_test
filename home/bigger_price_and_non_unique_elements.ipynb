{
 "cells": [
  {
   "cell_type": "markdown",
   "metadata": {},
   "source": [
    "# Bigger price"
   ]
  },
  {
   "cell_type": "markdown",
   "metadata": {},
   "source": [
    "sort function has a variable called \"key\", \n",
    "we can enter a function to the key to determine the sorting."
   ]
  },
  {
   "cell_type": "code",
   "execution_count": 72,
   "metadata": {},
   "outputs": [
    {
     "name": "stdout",
     "output_type": "stream",
     "text": [
      "Example:\n",
      "[{'name': 'wine', 'price': 138}, {'name': 'bread', 'price': 100}]\n",
      "Done! Looks like it is fine. Go and check it\n"
     ]
    }
   ],
   "source": [
    "def bigger_price(limit: int, data: list) -> list:\n",
    "\n",
    "    data.sort(key=lambda s: s['price'], reverse=True)\n",
    "    return data[0:limit]\n",
    "\n",
    "\n",
    "if __name__ == '__main__':\n",
    "    from pprint import pprint\n",
    "    print('Example:')\n",
    "    pprint(bigger_price(2, [\n",
    "        {\"name\": \"bread\", \"price\": 100},\n",
    "        {\"name\": \"wine\", \"price\": 138},\n",
    "        {\"name\": \"meat\", \"price\": 15},\n",
    "        {\"name\": \"water\", \"price\": 1}\n",
    "    ]))\n",
    "\n",
    "    # These \"asserts\" using for self-checking and not for auto-testing\n",
    "    assert bigger_price(2, [\n",
    "        {\"name\": \"bread\", \"price\": 100},\n",
    "        {\"name\": \"wine\", \"price\": 138},\n",
    "        {\"name\": \"meat\", \"price\": 15},\n",
    "        {\"name\": \"water\", \"price\": 1}\n",
    "    ]) == [\n",
    "        {\"name\": \"wine\", \"price\": 138},\n",
    "        {\"name\": \"bread\", \"price\": 100}\n",
    "    ], \"First\"\n",
    "\n",
    "    assert bigger_price(1, [\n",
    "        {\"name\": \"pen\", \"price\": 5},\n",
    "        {\"name\": \"whiteboard\", \"price\": 170}\n",
    "    ]) == [{\"name\": \"whiteboard\", \"price\": 170}], \"Second\"\n",
    "\n",
    "    print('Done! Looks like it is fine. Go and check it')"
   ]
  },
  {
   "cell_type": "markdown",
   "metadata": {},
   "source": [
    "# Non-unique Elements"
   ]
  },
  {
   "cell_type": "markdown",
   "metadata": {},
   "source": [
    "for loop in the define function can be simplified as a line"
   ]
  },
  {
   "cell_type": "code",
   "execution_count": 71,
   "metadata": {},
   "outputs": [
    {
     "name": "stdout",
     "output_type": "stream",
     "text": [
      "It is all good. Let's check it now\n"
     ]
    }
   ],
   "source": [
    "#Your optional code here\n",
    "#You can import some modules or create additional functions\n",
    "\n",
    "\n",
    "def checkio(data):\n",
    "\n",
    "    return [number for number in data if data.count(number)>1]\n",
    "\n",
    "#Some hints\n",
    "#You can use list.count(element) method for counting.\n",
    "#Create new list with non-unique elements\n",
    "#Loop over original list\n",
    "\n",
    "\n",
    "if __name__ == \"__main__\":\n",
    "    #These \"asserts\" using only for self-checking and not necessary for auto-testing\n",
    "    assert list(checkio([1, 2, 3, 1, 3])) == [1, 3, 1, 3], \"1st example\"\n",
    "    assert list(checkio([1, 2, 3, 4, 5])) == [], \"2nd example\"\n",
    "    assert list(checkio([5, 5, 5, 5, 5])) == [5, 5, 5, 5, 5], \"3rd example\"\n",
    "    assert list(checkio([10, 9, 10, 10, 9, 8])) == [10, 9, 10, 10, 9], \"4th example\"\n",
    "    print(\"It is all good. Let's check it now\")"
   ]
  },
  {
   "cell_type": "code",
   "execution_count": 67,
   "metadata": {},
   "outputs": [],
   "source": []
  }
 ],
 "metadata": {
  "kernelspec": {
   "display_name": "Python 3",
   "language": "python",
   "name": "python3"
  },
  "language_info": {
   "codemirror_mode": {
    "name": "ipython",
    "version": 3
   },
   "file_extension": ".py",
   "mimetype": "text/x-python",
   "name": "python",
   "nbconvert_exporter": "python",
   "pygments_lexer": "ipython3",
   "version": "3.7.4"
  }
 },
 "nbformat": 4,
 "nbformat_minor": 2
}
