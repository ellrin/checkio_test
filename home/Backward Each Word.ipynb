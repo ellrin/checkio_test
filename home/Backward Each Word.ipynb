{
 "cells": [
  {
   "cell_type": "markdown",
   "metadata": {},
   "source": [
    "# Backward Each Word"
   ]
  },
  {
   "cell_type": "code",
   "execution_count": 1,
   "metadata": {},
   "outputs": [
    {
     "name": "stdout",
     "output_type": "stream",
     "text": [
      "Example:\n",
      "\n",
      "Coding complete? Click 'Check' to earn cool rewards!\n"
     ]
    }
   ],
   "source": [
    "def backward_string_by_word(text):\n",
    "    \n",
    "    words = []\n",
    "    for word in text.split():\n",
    "        opt = ''\n",
    "        for i in range(len(word)):\n",
    "            num = len(word) - i - 1\n",
    "            opt+=(word[num])\n",
    "\n",
    "        words.append(opt)\n",
    "        \n",
    "        \n",
    "    final_output = ''\n",
    "    alphabet_count = 0\n",
    "    word_num = len(words)\n",
    "    word_num_count = 0\n",
    "    \n",
    "    for alphabet in text:\n",
    "    \n",
    "        if alphabet == ' ':\n",
    "            final_output+=alphabet\n",
    "\n",
    "        if alphabet !=' ':\n",
    "            alphabet_count+=1\n",
    "\n",
    "        if alphabet_count == len(words[word_num_count]):\n",
    "            final_output+=words[word_num_count]\n",
    "            alphabet_count = 0\n",
    "            word_num_count+=1\n",
    "    \n",
    "    \n",
    "    return final_output\n",
    "\n",
    "\n",
    "if __name__ == '__main__':\n",
    "    print(\"Example:\")\n",
    "    print(backward_string_by_word(''))\n",
    "\n",
    "    # These \"asserts\" are used for self-checking and not for an auto-testing\n",
    "    assert backward_string_by_word('') == ''\n",
    "    assert backward_string_by_word('world') == 'dlrow'\n",
    "    assert backward_string_by_word('hello world') == 'olleh dlrow'\n",
    "    assert backward_string_by_word('hello   world') == 'olleh   dlrow'\n",
    "    assert backward_string_by_word('welcome to a game') == 'emoclew ot a emag'\n",
    "    print(\"Coding complete? Click 'Check' to earn cool rewards!\")"
   ]
  },
  {
   "cell_type": "markdown",
   "metadata": {},
   "source": [
    "# Best solution"
   ]
  },
  {
   "cell_type": "code",
   "execution_count": 2,
   "metadata": {},
   "outputs": [],
   "source": [
    "def backward_string_by_word(text):\n",
    "    return ' '.join(word[::-1] for word in text.split(' '))"
   ]
  },
  {
   "cell_type": "code",
   "execution_count": 3,
   "metadata": {},
   "outputs": [],
   "source": [
    "t1 = 'hello   world'\n",
    "t2 = 'welcome to a game'"
   ]
  },
  {
   "cell_type": "code",
   "execution_count": 4,
   "metadata": {},
   "outputs": [
    {
     "name": "stdout",
     "output_type": "stream",
     "text": [
      "olleh   dlrow\n"
     ]
    }
   ],
   "source": [
    "output = []\n",
    "for word in t1.split(' '):\n",
    "    \n",
    "    # key points: word[::-1] can backward the word\n",
    "    output.append(word[::-1])\n",
    "\n",
    "print(' '.join(output))"
   ]
  }
 ],
 "metadata": {
  "kernelspec": {
   "display_name": "Python 3",
   "language": "python",
   "name": "python3"
  },
  "language_info": {
   "codemirror_mode": {
    "name": "ipython",
    "version": 3
   },
   "file_extension": ".py",
   "mimetype": "text/x-python",
   "name": "python",
   "nbconvert_exporter": "python",
   "pygments_lexer": "ipython3",
   "version": "3.5.2"
  }
 },
 "nbformat": 4,
 "nbformat_minor": 2
}
