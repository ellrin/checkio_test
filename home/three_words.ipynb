{
 "cells": [
  {
   "cell_type": "code",
   "execution_count": 31,
   "metadata": {},
   "outputs": [
    {
     "name": "stdout",
     "output_type": "stream",
     "text": [
      "Example:\n",
      "True\n",
      "done\n"
     ]
    }
   ],
   "source": [
    "def checkio(words):\n",
    "\n",
    "    str_number = 0\n",
    "    for word in words.split(' '):\n",
    "\n",
    "        try:\n",
    "            int_word = (int(word))\n",
    "        except:\n",
    "            int_word = word\n",
    "\n",
    "        if type(int_word) == int:\n",
    "            str_number = 0\n",
    "\n",
    "        if type(int_word) == str:\n",
    "            str_number+=1\n",
    "\n",
    "        if str_number == 3:\n",
    "            return True\n",
    "        \n",
    "    return False\n",
    "\n",
    "#These \"asserts\" using only for self-checking and not necessary for auto-testing\n",
    "if __name__ == '__main__':\n",
    "    print('Example:')\n",
    "    print(checkio(\"Hello World hello\"))\n",
    "    \n",
    "    assert checkio(\"Hello World hello\") == True, \"Hello\"\n",
    "    assert checkio(\"He is 123 man\") == False, \"123 man\"\n",
    "    assert checkio(\"1 2 3 4\") == False, \"Digits\"\n",
    "    assert checkio(\"bla bla bla bla\") == True, \"Bla Bla\"\n",
    "    assert checkio(\"Hi\") == False, \"Hi\"\n",
    "    \n",
    "    print(\"done\")"
   ]
  }
 ],
 "metadata": {
  "kernelspec": {
   "display_name": "Python 3",
   "language": "python",
   "name": "python3"
  },
  "language_info": {
   "codemirror_mode": {
    "name": "ipython",
    "version": 3
   },
   "file_extension": ".py",
   "mimetype": "text/x-python",
   "name": "python",
   "nbconvert_exporter": "python",
   "pygments_lexer": "ipython3",
   "version": "3.5.2"
  }
 },
 "nbformat": 4,
 "nbformat_minor": 2
}
