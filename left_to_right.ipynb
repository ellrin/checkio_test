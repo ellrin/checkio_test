{
 "cells": [
  {
   "cell_type": "markdown",
   "metadata": {},
   "source": [
    "# method 1"
   ]
  },
  {
   "cell_type": "markdown",
   "metadata": {},
   "source": [
    "the replace method can change all \"right\" in a string with \"left\""
   ]
  },
  {
   "cell_type": "code",
   "execution_count": 1,
   "metadata": {},
   "outputs": [],
   "source": [
    "def left_join(phrases):\n",
    "    \n",
    "    output_list = ''\n",
    "    for string in phrases:\n",
    "        newstr = (string.replace('right', 'left'))\n",
    "        output_list+=(newstr+',')\n",
    "    \n",
    "    return (str(output_list)[:-1])"
   ]
  },
  {
   "cell_type": "markdown",
   "metadata": {},
   "source": [
    "# method 2"
   ]
  },
  {
   "cell_type": "markdown",
   "metadata": {},
   "source": [
    "the join method can separate the tuple with a string, here ','\n",
    "\n",
    "example:"
   ]
  },
  {
   "cell_type": "code",
   "execution_count": 2,
   "metadata": {},
   "outputs": [
    {
     "name": "stdout",
     "output_type": "stream",
     "text": [
      "111,222,333\n",
      "111 222 333\n",
      "111@222@333\n"
     ]
    }
   ],
   "source": [
    "a = ('111', '222', '333')\n",
    "print(','.join(a))\n",
    "print(' '.join(a))\n",
    "print('@'.join(a))"
   ]
  },
  {
   "cell_type": "code",
   "execution_count": 3,
   "metadata": {},
   "outputs": [],
   "source": [
    "def left_join2(phrases):\n",
    "    \n",
    "    new = ','.join(phrases).replace('right', 'left')\n",
    "    return new"
   ]
  },
  {
   "cell_type": "code",
   "execution_count": 4,
   "metadata": {},
   "outputs": [
    {
     "name": "stdout",
     "output_type": "stream",
     "text": [
      "Example:\n",
      "left,left,left,stop\n",
      "Coding complete? Click 'Check' to review your tests and earn cool rewards!\n"
     ]
    }
   ],
   "source": [
    "def left_join(phrases):\n",
    "    \n",
    "    output_list = ''\n",
    "    for string in phrases:\n",
    "        newstr = (string.replace('right', 'left'))\n",
    "        output_list+=(newstr+',')\n",
    "    \n",
    "    return (str(output_list)[:-1])\n",
    "\n",
    "\n",
    "if __name__ == '__main__':\n",
    "    print('Example:')\n",
    "    print(left_join((\"left\", \"right\", \"left\", \"stop\")))\n",
    "    \n",
    "    #These \"asserts\" using only for self-checking and not necessary for auto-testing\n",
    "    assert left_join((\"left\", \"right\", \"left\", \"stop\")) == \"left,left,left,stop\", \"All to left\"\n",
    "    assert left_join((\"bright aright\", \"ok\")) == \"bleft aleft,ok\", \"Bright Left\"\n",
    "    assert left_join((\"brightness wright\",)) == \"bleftness wleft\", \"One phrase\"\n",
    "    assert left_join((\"enough\", \"jokes\")) == \"enough,jokes\", \"Nothing to replace\"\n",
    "    print(\"Coding complete? Click 'Check' to review your tests and earn cool rewards!\")"
   ]
  },
  {
   "cell_type": "code",
   "execution_count": null,
   "metadata": {},
   "outputs": [],
   "source": []
  }
 ],
 "metadata": {
  "kernelspec": {
   "display_name": "Python 3",
   "language": "python",
   "name": "python3"
  },
  "language_info": {
   "codemirror_mode": {
    "name": "ipython",
    "version": 3
   },
   "file_extension": ".py",
   "mimetype": "text/x-python",
   "name": "python",
   "nbconvert_exporter": "python",
   "pygments_lexer": "ipython3",
   "version": "3.7.4"
  }
 },
 "nbformat": 4,
 "nbformat_minor": 2
}
